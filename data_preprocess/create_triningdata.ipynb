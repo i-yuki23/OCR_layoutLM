{
 "cells": [
  {
   "cell_type": "code",
   "execution_count": 2,
   "metadata": {},
   "outputs": [],
   "source": [
    "import pandas as pd"
   ]
  },
  {
   "cell_type": "code",
   "execution_count": 23,
   "metadata": {},
   "outputs": [],
   "source": [
    "csv_path = \"../data/sample3.csv\"\n",
    "df = pd.read_csv(csv_path)"
   ]
  },
  {
   "cell_type": "code",
   "execution_count": 24,
   "metadata": {},
   "outputs": [
    {
     "data": {
      "text/html": [
       "<div>\n",
       "<style scoped>\n",
       "    .dataframe tbody tr th:only-of-type {\n",
       "        vertical-align: middle;\n",
       "    }\n",
       "\n",
       "    .dataframe tbody tr th {\n",
       "        vertical-align: top;\n",
       "    }\n",
       "\n",
       "    .dataframe thead th {\n",
       "        text-align: right;\n",
       "    }\n",
       "</style>\n",
       "<table border=\"1\" class=\"dataframe\">\n",
       "  <thead>\n",
       "    <tr style=\"text-align: right;\">\n",
       "      <th></th>\n",
       "      <th>Unnamed: 0</th>\n",
       "      <th>image_name</th>\n",
       "      <th>words</th>\n",
       "      <th>bboxes</th>\n",
       "      <th>labels</th>\n",
       "    </tr>\n",
       "  </thead>\n",
       "  <tbody>\n",
       "    <tr>\n",
       "      <th>0</th>\n",
       "      <td>0</td>\n",
       "      <td>sample3_image_0.jpeg</td>\n",
       "      <td>請求</td>\n",
       "      <td>[430, 67, 509, 87]</td>\n",
       "      <td>others</td>\n",
       "    </tr>\n",
       "    <tr>\n",
       "      <th>1</th>\n",
       "      <td>1</td>\n",
       "      <td>sample3_image_0.jpeg</td>\n",
       "      <td>書</td>\n",
       "      <td>[541, 67, 564, 87]</td>\n",
       "      <td>others</td>\n",
       "    </tr>\n",
       "    <tr>\n",
       "      <th>2</th>\n",
       "      <td>2</td>\n",
       "      <td>sample3_image_0.jpeg</td>\n",
       "      <td>サンプル</td>\n",
       "      <td>[114, 112, 206, 130]</td>\n",
       "      <td>clientName</td>\n",
       "    </tr>\n",
       "    <tr>\n",
       "      <th>3</th>\n",
       "      <td>3</td>\n",
       "      <td>sample3_image_0.jpeg</td>\n",
       "      <td>産業</td>\n",
       "      <td>[211, 112, 250, 130]</td>\n",
       "      <td>clientName</td>\n",
       "    </tr>\n",
       "    <tr>\n",
       "      <th>4</th>\n",
       "      <td>4</td>\n",
       "      <td>sample3_image_0.jpeg</td>\n",
       "      <td>株式会社</td>\n",
       "      <td>[260, 112, 357, 130]</td>\n",
       "      <td>clientName</td>\n",
       "    </tr>\n",
       "    <tr>\n",
       "      <th>...</th>\n",
       "      <td>...</td>\n",
       "      <td>...</td>\n",
       "      <td>...</td>\n",
       "      <td>...</td>\n",
       "      <td>...</td>\n",
       "    </tr>\n",
       "    <tr>\n",
       "      <th>127</th>\n",
       "      <td>127</td>\n",
       "      <td>sample3_image_0.jpeg</td>\n",
       "      <td>0123456</td>\n",
       "      <td>[107, 797, 179, 809]</td>\n",
       "      <td>bankinfo</td>\n",
       "    </tr>\n",
       "    <tr>\n",
       "      <th>128</th>\n",
       "      <td>128</td>\n",
       "      <td>sample3_image_0.jpeg</td>\n",
       "      <td>サンプル</td>\n",
       "      <td>[109, 819, 176, 832]</td>\n",
       "      <td>bankinfo</td>\n",
       "    </tr>\n",
       "    <tr>\n",
       "      <th>129</th>\n",
       "      <td>129</td>\n",
       "      <td>sample3_image_0.jpeg</td>\n",
       "      <td>(</td>\n",
       "      <td>[193, 819, 198, 832]</td>\n",
       "      <td>bankinfo</td>\n",
       "    </tr>\n",
       "    <tr>\n",
       "      <th>130</th>\n",
       "      <td>130</td>\n",
       "      <td>sample3_image_0.jpeg</td>\n",
       "      <td>カ</td>\n",
       "      <td>[208, 819, 215, 832]</td>\n",
       "      <td>bankinfo</td>\n",
       "    </tr>\n",
       "    <tr>\n",
       "      <th>131</th>\n",
       "      <td>131</td>\n",
       "      <td>sample3_image_0.jpeg</td>\n",
       "      <td>備考</td>\n",
       "      <td>[85, 872, 121, 887]</td>\n",
       "      <td>others</td>\n",
       "    </tr>\n",
       "  </tbody>\n",
       "</table>\n",
       "<p>132 rows × 5 columns</p>\n",
       "</div>"
      ],
      "text/plain": [
       "     Unnamed: 0            image_name    words                bboxes  \\\n",
       "0             0  sample3_image_0.jpeg       請求    [430, 67, 509, 87]   \n",
       "1             1  sample3_image_0.jpeg        書    [541, 67, 564, 87]   \n",
       "2             2  sample3_image_0.jpeg     サンプル  [114, 112, 206, 130]   \n",
       "3             3  sample3_image_0.jpeg       産業  [211, 112, 250, 130]   \n",
       "4             4  sample3_image_0.jpeg     株式会社  [260, 112, 357, 130]   \n",
       "..          ...                   ...      ...                   ...   \n",
       "127         127  sample3_image_0.jpeg  0123456  [107, 797, 179, 809]   \n",
       "128         128  sample3_image_0.jpeg     サンプル  [109, 819, 176, 832]   \n",
       "129         129  sample3_image_0.jpeg        (  [193, 819, 198, 832]   \n",
       "130         130  sample3_image_0.jpeg        カ  [208, 819, 215, 832]   \n",
       "131         131  sample3_image_0.jpeg       備考   [85, 872, 121, 887]   \n",
       "\n",
       "         labels  \n",
       "0        others  \n",
       "1        others  \n",
       "2    clientName  \n",
       "3    clientName  \n",
       "4    clientName  \n",
       "..          ...  \n",
       "127    bankinfo  \n",
       "128    bankinfo  \n",
       "129    bankinfo  \n",
       "130    bankinfo  \n",
       "131      others  \n",
       "\n",
       "[132 rows x 5 columns]"
      ]
     },
     "execution_count": 24,
     "metadata": {},
     "output_type": "execute_result"
    }
   ],
   "source": [
    "df"
   ]
  },
  {
   "cell_type": "code",
   "execution_count": 25,
   "metadata": {},
   "outputs": [
    {
     "name": "stdout",
     "output_type": "stream",
     "text": [
      "sample3_image_0.jpeg\n"
     ]
    }
   ],
   "source": [
    "image_path = df['image_name'][0]\n",
    "print(image_path)"
   ]
  },
  {
   "cell_type": "code",
   "execution_count": 26,
   "metadata": {},
   "outputs": [
    {
     "name": "stdout",
     "output_type": "stream",
     "text": [
      "['請求' '書' 'サンプル' '産業' '株式会社' '御' '中' '請求' 'No.' 'ご' '担当' ':' '請求' 'さ' 'れ'\n",
      " '太郎' '様' '請求' '日' '件名' ':' '2020' '年' '10' '月' 'サービス' '利用' '料' '下記' 'の'\n",
      " '通り' '、' 'ご' '請求' '申し上げ' 'ます' '。' '株式会社' '前' '月末' '払' 'ンボ株' ')'\n",
      " '〒123-4567' 'it' '東京' '都' '新宿' '区' '新宿' 'りごと' '3' '新宿' '第' '1' 'ビル' '2'\n",
      " '階' 'EP' 'サ' '社' 'TEL' ':' '03-0000-0000' 'FAX' ':' '03-0000-0000' 'E'\n",
      " '-' 'Mail' ':' 'sample' '@' 'sample' ',' 'com' '担当' ':' 'サービス' 'し' '太郎'\n",
      " '合計' '金額' '¥' '330,000' '(' '税' '込' ')' 'お' '支払' '期限' ':' '2020/9/30'\n",
      " '摘要' '数量' '単' '価' '金額' 'No.' '|' 'サービス' '利用' '料' '1' '300,000' '¥'\n",
      " '300,000' '小' '計' '消費' '税' '合計' '¥' '300,000' '¥' '30,000' '¥' '330,000'\n",
      " 'お' '振込' '先' 'サンプル' '銀行' 'サンプル' '支店' '普通' '0123456' 'サンプル' '(' 'カ' '備考']\n"
     ]
    }
   ],
   "source": [
    "words = df['words'].values\n",
    "bboxes = df['bboxes'].values\n",
    "labels = df['labels'].values\n",
    "print(words)"
   ]
  },
  {
   "cell_type": "code",
   "execution_count": 49,
   "metadata": {},
   "outputs": [
    {
     "name": "stdout",
     "output_type": "stream",
     "text": [
      "[[430, 67, 509, 87], [541, 67, 564, 87], [114, 112, 206, 130], [211, 112, 250, 130], [260, 112, 357, 130], [421, 112, 440, 128], [447, 112, 462, 128], [633, 114, 667, 127], [672, 114, 697, 127], [110, 147, 124, 160], [127, 147, 159, 160], [171, 147, 173, 160], [230, 146, 263, 160], [277, 146, 282, 160], [297, 146, 302, 160], [310, 147, 342, 160], [371, 147, 386, 160], [633, 147, 667, 159], [672, 147, 684, 159], [87, 187, 127, 203], [139, 187, 142, 203], [161, 187, 206, 203], [213, 187, 218, 203], [235, 187, 252, 203], [262, 187, 267, 203], [280, 187, 359, 203], [366, 187, 398, 203], [418, 187, 426, 203], [109, 211, 139, 225], [151, 211, 156, 225], [163, 211, 194, 225], [203, 211, 206, 225], [225, 211, 228, 225], [238, 211, 267, 225], [272, 211, 346, 225], [347, 211, 379, 225], [386, 211, 391, 225], [579, 187, 652, 202], [660, 187, 665, 202], [673, 187, 707, 202], [717, 187, 722, 202], [724, 200, 826, 221], [821, 202, 830, 221], [583, 211, 678, 224], [756, 218, 830, 240], [576, 229, 613, 252], [625, 230, 631, 252], [640, 231, 667, 253], [678, 233, 685, 254], [694, 233, 726, 255], [731, 234, 754, 255], [766, 235, 773, 256], [581, 252, 610, 272], [625, 253, 628, 272], [640, 253, 645, 272], [650, 253, 682, 273], [685, 254, 690, 273], [700, 254, 712, 273], [726, 254, 756, 274], [776, 255, 783, 274], [815, 255, 830, 275], [625, 278, 657, 291], [667, 278, 668, 291], [685, 278, 806, 291], [625, 299, 657, 312], [667, 299, 668, 312], [685, 299, 806, 312], [605, 322, 613, 335], [615, 322, 620, 335], [623, 322, 657, 335], [667, 322, 668, 335], [685, 322, 739, 335], [746, 323, 751, 335], [757, 323, 808, 336], [813, 323, 816, 336], [820, 323, 848, 336], [621, 343, 655, 356], [667, 343, 668, 356], [685, 343, 756, 356], [768, 343, 773, 356], [783, 343, 816, 356], [87, 380, 129, 397], [131, 380, 173, 397], [267, 381, 277, 397], [280, 381, 357, 397], [435, 381, 438, 395], [442, 381, 458, 395], [460, 381, 477, 395], [478, 381, 484, 395], [568, 381, 583, 395], [586, 381, 620, 395], [621, 381, 657, 395], [667, 381, 668, 395], [764, 381, 857, 394], [295, 422, 331, 437], [559, 423, 593, 437], [690, 422, 707, 436], [709, 422, 726, 436], [848, 423, 882, 437], [63, 423, 90, 436], [102, 445, 109, 461], [109, 445, 176, 461], [183, 445, 213, 461], [228, 445, 235, 461], [546, 449, 551, 460], [714, 447, 779, 461], [860, 448, 868, 461], [872, 448, 937, 461], [559, 709, 569, 722], [586, 709, 594, 722], [549, 731, 579, 745], [594, 731, 603, 745], [557, 752, 593, 766], [860, 709, 868, 722], [872, 709, 937, 722], [872, 732, 878, 745], [882, 732, 937, 745], [860, 753, 870, 768], [870, 753, 937, 768], [55, 732, 70, 746], [73, 732, 109, 746], [110, 732, 127, 746], [109, 752, 176, 768], [181, 752, 216, 768], [238, 752, 307, 768], [309, 752, 346, 768], [112, 776, 147, 789], [107, 797, 179, 809], [109, 819, 176, 832], [193, 819, 198, 832], [208, 819, 215, 832], [85, 872, 121, 887]]\n"
     ]
    }
   ],
   "source": [
    "import ast\n",
    "\n",
    "# Your string representation of a list\n",
    "\n",
    "bboxes_int = []\n",
    "# Convert the string to a list of integers\n",
    "for bbox in bboxes:\n",
    "    bbox = ast.literal_eval(bbox)\n",
    "    bboxes_int.append(bbox)\n",
    "print(bboxes_int)"
   ]
  },
  {
   "cell_type": "code",
   "execution_count": 56,
   "metadata": {},
   "outputs": [],
   "source": [
    "dataset = pd.DataFrame({\n",
    "    \"image_name\": [image_path],\n",
    "    \"words\": [words],\n",
    "    \"bboxes\": [bboxes],\n",
    "    \"labels\": [labels],\n",
    "})"
   ]
  },
  {
   "cell_type": "code",
   "execution_count": 51,
   "metadata": {},
   "outputs": [
    {
     "data": {
      "text/html": [
       "<div>\n",
       "<style scoped>\n",
       "    .dataframe tbody tr th:only-of-type {\n",
       "        vertical-align: middle;\n",
       "    }\n",
       "\n",
       "    .dataframe tbody tr th {\n",
       "        vertical-align: top;\n",
       "    }\n",
       "\n",
       "    .dataframe thead th {\n",
       "        text-align: right;\n",
       "    }\n",
       "</style>\n",
       "<table border=\"1\" class=\"dataframe\">\n",
       "  <thead>\n",
       "    <tr style=\"text-align: right;\">\n",
       "      <th></th>\n",
       "      <th>image_name</th>\n",
       "      <th>words</th>\n",
       "      <th>bboxes</th>\n",
       "      <th>labels</th>\n",
       "    </tr>\n",
       "  </thead>\n",
       "  <tbody>\n",
       "    <tr>\n",
       "      <th>0</th>\n",
       "      <td>sample3_image_0.jpeg</td>\n",
       "      <td>[請求, 書, サンプル, 産業, 株式会社, 御, 中, 請求, No., ご, 担当, ...</td>\n",
       "      <td>[[430, 67, 509, 87], [541, 67, 564, 87], [114,...</td>\n",
       "      <td>[others, others, clientName, clientName, clien...</td>\n",
       "    </tr>\n",
       "  </tbody>\n",
       "</table>\n",
       "</div>"
      ],
      "text/plain": [
       "             image_name                                              words  \\\n",
       "0  sample3_image_0.jpeg  [請求, 書, サンプル, 産業, 株式会社, 御, 中, 請求, No., ご, 担当, ...   \n",
       "\n",
       "                                              bboxes  \\\n",
       "0  [[430, 67, 509, 87], [541, 67, 564, 87], [114,...   \n",
       "\n",
       "                                              labels  \n",
       "0  [others, others, clientName, clientName, clien...  "
      ]
     },
     "execution_count": 51,
     "metadata": {},
     "output_type": "execute_result"
    }
   ],
   "source": [
    "dataset"
   ]
  },
  {
   "cell_type": "code",
   "execution_count": 54,
   "metadata": {},
   "outputs": [
    {
     "data": {
      "text/plain": [
       "0    [[430, 67, 509, 87], [541, 67, 564, 87], [114,...\n",
       "Name: bboxes, dtype: object"
      ]
     },
     "execution_count": 54,
     "metadata": {},
     "output_type": "execute_result"
    }
   ],
   "source": [
    "dataset['bboxes']"
   ]
  },
  {
   "cell_type": "code",
   "execution_count": 30,
   "metadata": {},
   "outputs": [],
   "source": [
    "dataset.to_json('../data/processed/training/sample3.json')"
   ]
  },
  {
   "cell_type": "code",
   "execution_count": null,
   "metadata": {},
   "outputs": [],
   "source": []
  }
 ],
 "metadata": {
  "kernelspec": {
   "display_name": "project",
   "language": "python",
   "name": "python3"
  },
  "language_info": {
   "codemirror_mode": {
    "name": "ipython",
    "version": 3
   },
   "file_extension": ".py",
   "mimetype": "text/x-python",
   "name": "python",
   "nbconvert_exporter": "python",
   "pygments_lexer": "ipython3",
   "version": "3.11.3"
  }
 },
 "nbformat": 4,
 "nbformat_minor": 2
}
