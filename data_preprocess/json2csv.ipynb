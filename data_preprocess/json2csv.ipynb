{
 "cells": [
  {
   "cell_type": "code",
   "execution_count": 5,
   "metadata": {},
   "outputs": [],
   "source": [
    "from helper import json2words, normalize_bbox\n",
    "import os\n",
    "\n",
    "json_dir = \"../data/char_recognition/\"\n",
    "\n",
    "for file in os.listdir(json_dir):\n",
    "    if file.endswith(\".json\"):\n",
    "        json_path = os.path.join(json_dir, file)\n",
    "        words, bboxes = json2words(json_path)\n",
    "        normalized_bboxes = normalize_bbox(bboxes)"
   ]
  },
  {
   "cell_type": "code",
   "execution_count": 44,
   "metadata": {},
   "outputs": [],
   "source": [
    "from helper import json2words, normalize_bbox\n",
    "import os\n",
    "\n",
    "json_dir = \"../data/char_recognition/\"\n",
    "\n",
    "json_path = os.path.join(json_dir, \"sample2.json\")\n",
    "words, bboxes = json2words(json_path)\n",
    "normalized_bboxes = normalize_bbox(bboxes)"
   ]
  },
  {
   "cell_type": "code",
   "execution_count": 45,
   "metadata": {},
   "outputs": [
    {
     "name": "stdout",
     "output_type": "stream",
     "text": [
      "['請求', '書', 'サンプル', '産業', '株式会社', '御', '中', '請求', 'No.', 'ご', '担当', ':', '請求', 'さ', 'れ', '太郎', '様', '請求', '日', '件名', ':', '2020', '年', '10', '月', 'サービス', '利用', '料', '下記', 'の', '通り', '、', 'ご', '請求', '申し上げ', 'ます', '。', '株式会社', '前', '月末', '払', 'ンボ株', ')', '〒123-4567', 'it', '東京', '都', '新宿', '区', '新宿', 'りごと', '3', '新宿', '第', '1', 'ビル', '2', '階', 'EP', 'サ', '社', 'TEL', ':', '03-0000-0000', 'FAX', ':', '03-0000-0000', 'E', '-', 'Mail', ':', 'sample', '@', 'sample', ',', 'com', '担当', ':', 'サービス', 'し', '太郎', '合計', '金額', '¥', '330,000', '(', '税', '込', ')', 'お', '支払', '期限', ':', '2020/9/30', '摘要', '数量', '単', '価', '金額', 'No.', '|', 'サービス', '利用', '料', '1', '300,000', '¥', '300,000', '小', '計', '消費', '税', '合計', '¥', '300,000', '¥', '30,000', '¥', '330,000', 'お', '振込', '先', 'サンプル', '銀行', 'サンプル', '支店', '普通', '0123456', 'サンプル', '(', 'カ', '備考']\n"
     ]
    }
   ],
   "source": [
    "print(words)"
   ]
  },
  {
   "cell_type": "code",
   "execution_count": 23,
   "metadata": {},
   "outputs": [
    {
     "name": "stdout",
     "output_type": "stream",
     "text": [
      "[[53, 880, 331, 888], [470, 59, 531, 68], [53, 138, 184, 153], [379, 165, 559, 172], [391, 248, 484, 266], [80, 248, 213, 266], [494, 250, 571, 263], [272, 298, 284, 306], [289, 298, 300, 306], [305, 298, 309, 306], [314, 298, 326, 306], [331, 298, 342, 306], [615, 298, 626, 306], [631, 298, 643, 306], [67, 321, 104, 330], [109, 321, 198, 330], [53, 912, 171, 920], [186, 912, 357, 920], [53, 927, 371, 935], [53, 942, 247, 951], [423, 21, 452, 41], [485, 21, 514, 41], [547, 21, 576, 41], [489, 856, 510, 863], [586, 768, 625, 776], [631, 768, 657, 776], [618, 321, 623, 330], [885, 321, 939, 330], [616, 744, 642, 752], [892, 792, 941, 800], [608, 792, 647, 800], [892, 814, 941, 823], [601, 814, 653, 823], [742, 298, 754, 306], [759, 298, 771, 306], [872, 298, 884, 306], [889, 298, 900, 306], [756, 321, 811, 330], [759, 180, 867, 190], [885, 744, 941, 752], [892, 768, 941, 776]]\n"
     ]
    }
   ],
   "source": [
    "print(normalized_bboxes)"
   ]
  },
  {
   "cell_type": "code",
   "execution_count": 68,
   "metadata": {},
   "outputs": [
    {
     "name": "stdout",
     "output_type": "stream",
     "text": [
      "others 請求\n",
      "others 書\n",
      "clientName サンプル\n",
      "clientName 産業\n",
      "clientName 株式会社\n",
      "others 御\n",
      "others 中\n",
      "others 請求\n",
      "others No.\n",
      "others ご\n",
      "others 担当\n",
      "others :\n",
      "others 請求\n",
      "others さ\n",
      "others れ\n",
      "others 太郎\n",
      "others 様\n",
      "others 請求\n",
      "others 日\n",
      "others 件名\n",
      "others :\n",
      "others 2020\n",
      "others 年\n",
      "others 10\n",
      "others 月\n",
      "others サービス\n",
      "others 利用\n",
      "others 料\n",
      "others 下記\n",
      "others の\n",
      "others 通り\n",
      "others 、\n",
      "others ご\n",
      "others 請求\n",
      "others 申し上げ\n",
      "others ます\n",
      "others 。\n",
      "others 株式会社\n",
      "others 前\n",
      "others 月末\n",
      "others 払\n",
      "others ンボ株\n",
      "others )\n",
      "others 〒123-4567\n",
      "others it\n",
      "others 東京\n",
      "others 都\n",
      "others 新宿\n",
      "others 区\n",
      "others 新宿\n",
      "others りごと\n",
      "others 3\n",
      "others 新宿\n",
      "others 第\n",
      "others 1\n",
      "others ビル\n",
      "others 2\n",
      "others 階\n",
      "others EP\n",
      "others サ\n",
      "others 社\n",
      "others TEL\n",
      "others :\n",
      "others 03-0000-0000\n",
      "others FAX\n",
      "others :\n",
      "others 03-0000-0000\n",
      "others E\n",
      "others -\n",
      "others Mail\n",
      "others :\n",
      "others sample\n",
      "others @\n",
      "others sample\n",
      "others ,\n",
      "others com\n",
      "others 担当\n",
      "others :\n",
      "others サービス\n",
      "others し\n",
      "others 太郎\n",
      "others 合計\n",
      "others 金額\n",
      "others ¥\n",
      "total 330,000\n",
      "others (\n",
      "others 税\n",
      "others 込\n",
      "others )\n",
      "others お\n",
      "others 支払\n",
      "others 期限\n",
      "others :\n",
      "paymentDueDate 2020/9/30\n",
      "others 摘要\n",
      "others 数量\n",
      "others 単\n",
      "others 価\n",
      "others 金額\n",
      "others No.\n",
      "others |\n",
      "others サービス\n",
      "others 利用\n",
      "others 料\n",
      "others 1\n",
      "others 300,000\n",
      "others ¥\n",
      "others 300,000\n",
      "others 小\n",
      "others 計\n",
      "others 消費\n",
      "others 税\n",
      "others 合計\n",
      "others ¥\n",
      "others 300,000\n",
      "others ¥\n",
      "others 30,000\n",
      "others ¥\n",
      "total 330,000\n",
      "others お\n",
      "others 振込\n",
      "others 先\n",
      "others サンプル\n",
      "others 銀行\n",
      "others サンプル\n",
      "others 支店\n",
      "others 普通\n",
      "others 0123456\n",
      "others サンプル\n",
      "others (\n",
      "others カ\n",
      "others 備考\n",
      "132\n",
      "132\n"
     ]
    }
   ],
   "source": [
    "b = ['請求', '書', 'サンプル', '産業', '株式会社', '御', '中', '請求', 'No.', 'ご', '担当', ':', '請求', 'さ', 'れ', '太郎', '様', '請求', '日', '件名',\n",
    "      ':', '2020', '年', '10', '月', 'サービス', '利用', '料', '下記', 'の', '通り', '、', 'ご', '請求', '申し上げ', 'ます', '。', '株式会社', '前', \n",
    "      '月末', '払', 'ンボ株', ')', '〒123-4567', 'it', '東京', '都', '新宿', '区', '新宿', 'りごと', '3', '新宿', '第', '1', 'ビル', '2', '階', 'EP', \n",
    "      'サ', '社', 'TEL', ':', '03-0000-0000', 'FAX', ':', '03-0000-0000', 'E', '-', 'Mail', ':', 'sample', '@', 'sample', ',', 'com', '担当', ':',\n",
    "        'サービス', 'し', '太郎', '合計', '金額', '¥', '330,000', '(', '税', '込', ')', 'お', '支払', '期限', ':', '2020/9/30', '摘要', '数量', '単',\n",
    "          '価', '金額', 'No.', '|', 'サービス', '利用', '料', '1', '300,000', '¥', '300,000', '小', '計', '消費', '税', '合計', '¥', '300,000', '¥',\n",
    "            '30,000', '¥', '330,000', 'お', '振込', '先', 'サンプル', '銀行', 'サンプル', '支店', '普通', '0123456', 'サンプル', '(', 'カ', '備考']\n",
    "\n",
    "a = ['others' for _ in range(len(b))]\n",
    "a[2] = 'clientName'\n",
    "a[3] = 'clientName'\n",
    "a[4] = 'clientName'\n",
    "# a[-10:-2] = ['bankinfo' for _ in range(9)]\n",
    "\n",
    "\n",
    "\n",
    "for i, element in enumerate(b):\n",
    "  if element == '330,000':\n",
    "    a[i] = 'total'\n",
    "\n",
    "for i, element in enumerate(b):\n",
    "  if element == '2020/9/30':\n",
    "    a[i] = 'paymentDueDate'\n",
    "\n",
    "\n",
    "\n",
    "    \n",
    "\n",
    "\n",
    "for i in range(len(b)):\n",
    "  print(a[i], b[i])\n",
    "\n",
    "print(len(a))\n",
    "print(len(b))\n",
    "\n",
    "\n"
   ]
  },
  {
   "cell_type": "code",
   "execution_count": 58,
   "metadata": {},
   "outputs": [
    {
     "name": "stdout",
     "output_type": "stream",
     "text": [
      "['サンプル', '銀行', 'サンプル', '支店', '普通', '0123456', 'サンプル', '(']\n"
     ]
    }
   ],
   "source": [
    "print(b[-10:-2])\n"
   ]
  },
  {
   "cell_type": "code",
   "execution_count": null,
   "metadata": {},
   "outputs": [],
   "source": [
    "[invoiceDate, documentDate, paymentDueDate, paymentAmount, clientName, bankAccounts, subtotal, tax_amount, total, bankName, branchName, accountType, accountNumber, holderName, others]"
   ]
  },
  {
   "cell_type": "code",
   "execution_count": 69,
   "metadata": {},
   "outputs": [
    {
     "name": "stdout",
     "output_type": "stream",
     "text": [
      "['sample3_image_0.jpeg', 'sample3_image_0.jpeg', 'sample3_image_0.jpeg', 'sample3_image_0.jpeg', 'sample3_image_0.jpeg', 'sample3_image_0.jpeg', 'sample3_image_0.jpeg', 'sample3_image_0.jpeg', 'sample3_image_0.jpeg', 'sample3_image_0.jpeg', 'sample3_image_0.jpeg', 'sample3_image_0.jpeg', 'sample3_image_0.jpeg', 'sample3_image_0.jpeg', 'sample3_image_0.jpeg', 'sample3_image_0.jpeg', 'sample3_image_0.jpeg', 'sample3_image_0.jpeg', 'sample3_image_0.jpeg', 'sample3_image_0.jpeg', 'sample3_image_0.jpeg', 'sample3_image_0.jpeg', 'sample3_image_0.jpeg', 'sample3_image_0.jpeg', 'sample3_image_0.jpeg', 'sample3_image_0.jpeg', 'sample3_image_0.jpeg', 'sample3_image_0.jpeg', 'sample3_image_0.jpeg', 'sample3_image_0.jpeg', 'sample3_image_0.jpeg', 'sample3_image_0.jpeg', 'sample3_image_0.jpeg', 'sample3_image_0.jpeg', 'sample3_image_0.jpeg', 'sample3_image_0.jpeg', 'sample3_image_0.jpeg', 'sample3_image_0.jpeg', 'sample3_image_0.jpeg', 'sample3_image_0.jpeg', 'sample3_image_0.jpeg', 'sample3_image_0.jpeg', 'sample3_image_0.jpeg', 'sample3_image_0.jpeg', 'sample3_image_0.jpeg', 'sample3_image_0.jpeg', 'sample3_image_0.jpeg', 'sample3_image_0.jpeg', 'sample3_image_0.jpeg', 'sample3_image_0.jpeg', 'sample3_image_0.jpeg', 'sample3_image_0.jpeg', 'sample3_image_0.jpeg', 'sample3_image_0.jpeg', 'sample3_image_0.jpeg', 'sample3_image_0.jpeg', 'sample3_image_0.jpeg', 'sample3_image_0.jpeg', 'sample3_image_0.jpeg', 'sample3_image_0.jpeg', 'sample3_image_0.jpeg', 'sample3_image_0.jpeg', 'sample3_image_0.jpeg', 'sample3_image_0.jpeg', 'sample3_image_0.jpeg', 'sample3_image_0.jpeg', 'sample3_image_0.jpeg', 'sample3_image_0.jpeg', 'sample3_image_0.jpeg', 'sample3_image_0.jpeg', 'sample3_image_0.jpeg', 'sample3_image_0.jpeg', 'sample3_image_0.jpeg', 'sample3_image_0.jpeg', 'sample3_image_0.jpeg', 'sample3_image_0.jpeg', 'sample3_image_0.jpeg', 'sample3_image_0.jpeg', 'sample3_image_0.jpeg', 'sample3_image_0.jpeg', 'sample3_image_0.jpeg', 'sample3_image_0.jpeg', 'sample3_image_0.jpeg', 'sample3_image_0.jpeg', 'sample3_image_0.jpeg', 'sample3_image_0.jpeg', 'sample3_image_0.jpeg', 'sample3_image_0.jpeg', 'sample3_image_0.jpeg', 'sample3_image_0.jpeg', 'sample3_image_0.jpeg', 'sample3_image_0.jpeg', 'sample3_image_0.jpeg', 'sample3_image_0.jpeg', 'sample3_image_0.jpeg', 'sample3_image_0.jpeg', 'sample3_image_0.jpeg', 'sample3_image_0.jpeg', 'sample3_image_0.jpeg', 'sample3_image_0.jpeg', 'sample3_image_0.jpeg', 'sample3_image_0.jpeg', 'sample3_image_0.jpeg', 'sample3_image_0.jpeg', 'sample3_image_0.jpeg', 'sample3_image_0.jpeg', 'sample3_image_0.jpeg', 'sample3_image_0.jpeg', 'sample3_image_0.jpeg', 'sample3_image_0.jpeg', 'sample3_image_0.jpeg', 'sample3_image_0.jpeg', 'sample3_image_0.jpeg', 'sample3_image_0.jpeg', 'sample3_image_0.jpeg', 'sample3_image_0.jpeg', 'sample3_image_0.jpeg', 'sample3_image_0.jpeg', 'sample3_image_0.jpeg', 'sample3_image_0.jpeg', 'sample3_image_0.jpeg', 'sample3_image_0.jpeg', 'sample3_image_0.jpeg', 'sample3_image_0.jpeg', 'sample3_image_0.jpeg', 'sample3_image_0.jpeg', 'sample3_image_0.jpeg', 'sample3_image_0.jpeg', 'sample3_image_0.jpeg', 'sample3_image_0.jpeg', 'sample3_image_0.jpeg', 'sample3_image_0.jpeg']\n"
     ]
    }
   ],
   "source": [
    "image_name = \"sample3_image_0.jpeg\"\n",
    "image_list = [image_name for _ in range(len(words))]\n",
    "print(image_list)"
   ]
  },
  {
   "cell_type": "code",
   "execution_count": 70,
   "metadata": {},
   "outputs": [],
   "source": [
    "import pandas as pd\n",
    "dataset = pd.DataFrame({\n",
    "    \"image_name\": image_list,\n",
    "    \"words\": words,\n",
    "    \"bboxes\": normalized_bboxes,\n",
    "    \"labels\": a,\n",
    "})"
   ]
  },
  {
   "cell_type": "code",
   "execution_count": 71,
   "metadata": {},
   "outputs": [
    {
     "data": {
      "text/html": [
       "<div>\n",
       "<style scoped>\n",
       "    .dataframe tbody tr th:only-of-type {\n",
       "        vertical-align: middle;\n",
       "    }\n",
       "\n",
       "    .dataframe tbody tr th {\n",
       "        vertical-align: top;\n",
       "    }\n",
       "\n",
       "    .dataframe thead th {\n",
       "        text-align: right;\n",
       "    }\n",
       "</style>\n",
       "<table border=\"1\" class=\"dataframe\">\n",
       "  <thead>\n",
       "    <tr style=\"text-align: right;\">\n",
       "      <th></th>\n",
       "      <th>image_name</th>\n",
       "      <th>words</th>\n",
       "      <th>bboxes</th>\n",
       "      <th>labels</th>\n",
       "    </tr>\n",
       "  </thead>\n",
       "  <tbody>\n",
       "    <tr>\n",
       "      <th>0</th>\n",
       "      <td>sample3_image_0.jpeg</td>\n",
       "      <td>請求</td>\n",
       "      <td>[430, 67, 509, 87]</td>\n",
       "      <td>others</td>\n",
       "    </tr>\n",
       "    <tr>\n",
       "      <th>1</th>\n",
       "      <td>sample3_image_0.jpeg</td>\n",
       "      <td>書</td>\n",
       "      <td>[541, 67, 564, 87]</td>\n",
       "      <td>others</td>\n",
       "    </tr>\n",
       "    <tr>\n",
       "      <th>2</th>\n",
       "      <td>sample3_image_0.jpeg</td>\n",
       "      <td>サンプル</td>\n",
       "      <td>[114, 112, 206, 130]</td>\n",
       "      <td>clientName</td>\n",
       "    </tr>\n",
       "    <tr>\n",
       "      <th>3</th>\n",
       "      <td>sample3_image_0.jpeg</td>\n",
       "      <td>産業</td>\n",
       "      <td>[211, 112, 250, 130]</td>\n",
       "      <td>clientName</td>\n",
       "    </tr>\n",
       "    <tr>\n",
       "      <th>4</th>\n",
       "      <td>sample3_image_0.jpeg</td>\n",
       "      <td>株式会社</td>\n",
       "      <td>[260, 112, 357, 130]</td>\n",
       "      <td>clientName</td>\n",
       "    </tr>\n",
       "    <tr>\n",
       "      <th>...</th>\n",
       "      <td>...</td>\n",
       "      <td>...</td>\n",
       "      <td>...</td>\n",
       "      <td>...</td>\n",
       "    </tr>\n",
       "    <tr>\n",
       "      <th>127</th>\n",
       "      <td>sample3_image_0.jpeg</td>\n",
       "      <td>0123456</td>\n",
       "      <td>[107, 797, 179, 809]</td>\n",
       "      <td>others</td>\n",
       "    </tr>\n",
       "    <tr>\n",
       "      <th>128</th>\n",
       "      <td>sample3_image_0.jpeg</td>\n",
       "      <td>サンプル</td>\n",
       "      <td>[109, 819, 176, 832]</td>\n",
       "      <td>others</td>\n",
       "    </tr>\n",
       "    <tr>\n",
       "      <th>129</th>\n",
       "      <td>sample3_image_0.jpeg</td>\n",
       "      <td>(</td>\n",
       "      <td>[193, 819, 198, 832]</td>\n",
       "      <td>others</td>\n",
       "    </tr>\n",
       "    <tr>\n",
       "      <th>130</th>\n",
       "      <td>sample3_image_0.jpeg</td>\n",
       "      <td>カ</td>\n",
       "      <td>[208, 819, 215, 832]</td>\n",
       "      <td>others</td>\n",
       "    </tr>\n",
       "    <tr>\n",
       "      <th>131</th>\n",
       "      <td>sample3_image_0.jpeg</td>\n",
       "      <td>備考</td>\n",
       "      <td>[85, 872, 121, 887]</td>\n",
       "      <td>others</td>\n",
       "    </tr>\n",
       "  </tbody>\n",
       "</table>\n",
       "<p>132 rows × 4 columns</p>\n",
       "</div>"
      ],
      "text/plain": [
       "               image_name    words                bboxes      labels\n",
       "0    sample3_image_0.jpeg       請求    [430, 67, 509, 87]      others\n",
       "1    sample3_image_0.jpeg        書    [541, 67, 564, 87]      others\n",
       "2    sample3_image_0.jpeg     サンプル  [114, 112, 206, 130]  clientName\n",
       "3    sample3_image_0.jpeg       産業  [211, 112, 250, 130]  clientName\n",
       "4    sample3_image_0.jpeg     株式会社  [260, 112, 357, 130]  clientName\n",
       "..                    ...      ...                   ...         ...\n",
       "127  sample3_image_0.jpeg  0123456  [107, 797, 179, 809]      others\n",
       "128  sample3_image_0.jpeg     サンプル  [109, 819, 176, 832]      others\n",
       "129  sample3_image_0.jpeg        (  [193, 819, 198, 832]      others\n",
       "130  sample3_image_0.jpeg        カ  [208, 819, 215, 832]      others\n",
       "131  sample3_image_0.jpeg       備考   [85, 872, 121, 887]      others\n",
       "\n",
       "[132 rows x 4 columns]"
      ]
     },
     "execution_count": 71,
     "metadata": {},
     "output_type": "execute_result"
    }
   ],
   "source": [
    "dataset"
   ]
  },
  {
   "cell_type": "code",
   "execution_count": 72,
   "metadata": {},
   "outputs": [],
   "source": [
    "dataset.to_csv('../data/sample3.csv')"
   ]
  },
  {
   "cell_type": "code",
   "execution_count": null,
   "metadata": {},
   "outputs": [],
   "source": []
  }
 ],
 "metadata": {
  "kernelspec": {
   "display_name": "project",
   "language": "python",
   "name": "python3"
  },
  "language_info": {
   "codemirror_mode": {
    "name": "ipython",
    "version": 3
   },
   "file_extension": ".py",
   "mimetype": "text/x-python",
   "name": "python",
   "nbconvert_exporter": "python",
   "pygments_lexer": "ipython3",
   "version": "3.11.3"
  }
 },
 "nbformat": 4,
 "nbformat_minor": 2
}
