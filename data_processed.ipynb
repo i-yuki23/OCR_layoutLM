{
 "cells": [
  {
   "cell_type": "code",
   "execution_count": 1,
   "metadata": {},
   "outputs": [],
   "source": [
    "import json"
   ]
  },
  {
   "cell_type": "code",
   "execution_count": 2,
   "metadata": {},
   "outputs": [],
   "source": [
    "json_dir = \"./data/char_recognition/\""
   ]
  },
  {
   "cell_type": "code",
   "execution_count": 3,
   "metadata": {},
   "outputs": [],
   "source": [
    "# extract json file\n",
    "with open(json_dir + \"sample1.json\", \"r\") as file:\n",
    "    char_recognition = json.load(file)"
   ]
  },
  {
   "cell_type": "code",
   "execution_count": 4,
   "metadata": {},
   "outputs": [
    {
     "name": "stdout",
     "output_type": "stream",
     "text": [
      "{'normalized_vertices': [{'x': 0.72436976, 'y': 0.11995249}, {'x': 0.7596639, 'y': 0.11995249}, {'x': 0.7596639, 'y': 0.13420427}, {'x': 0.72436976, 'y': 0.13420427}]}\n",
      "{'normalized_vertices': [{'x': 0.76638657, 'y': 0.11995249}, {'x': 0.7815126, 'y': 0.11995249}, {'x': 0.7815126, 'y': 0.13420427}, {'x': 0.76638657, 'y': 0.13420427}]}\n",
      "{'normalized_vertices': [{'x': 0.789916, 'y': 0.11995249}, {'x': 0.794958, 'y': 0.11995249}, {'x': 0.794958, 'y': 0.13420427}, {'x': 0.789916, 'y': 0.13420427}]}\n",
      "{'normalized_vertices': [{'x': 0.80336136, 'y': 0.11995249}, {'x': 0.81512606, 'y': 0.11995249}, {'x': 0.81512606, 'y': 0.13420427}, {'x': 0.80336136, 'y': 0.13420427}]}\n",
      "{'normalized_vertices': [{'x': 0.8252101, 'y': 0.11995249}, {'x': 0.8319328, 'y': 0.11995249}, {'x': 0.8319328, 'y': 0.13420427}, {'x': 0.8252101, 'y': 0.13420427}]}\n",
      "{'normalized_vertices': [{'x': 0.8420168, 'y': 0.11995249}, {'x': 0.85210085, 'y': 0.11995249}, {'x': 0.85210085, 'y': 0.13420427}, {'x': 0.8420168, 'y': 0.13420427}]}\n",
      "{'normalized_vertices': [{'x': 0.6487395, 'y': 0.14133017}, {'x': 0.6806723, 'y': 0.14133017}, {'x': 0.6806723, 'y': 0.15558195}, {'x': 0.6487395, 'y': 0.15558195}]}\n",
      "{'normalized_vertices': [{'x': 0.68403363, 'y': 0.14133017}, {'x': 0.6991597, 'y': 0.14133017}, {'x': 0.6991597, 'y': 0.15558195}, {'x': 0.68403363, 'y': 0.15558195}]}\n",
      "{'normalized_vertices': [{'x': 0.70084035, 'y': 0.14133017}, {'x': 0.7344538, 'y': 0.14133017}, {'x': 0.7344538, 'y': 0.15558195}, {'x': 0.70084035, 'y': 0.15558195}]}\n",
      "{'normalized_vertices': [{'x': 0.74285716, 'y': 0.14133017}, {'x': 0.74453783, 'y': 0.14133017}, {'x': 0.74453783, 'y': 0.15558195}, {'x': 0.74285716, 'y': 0.15558195}]}\n",
      "{'normalized_vertices': [{'x': 0.75462186, 'y': 0.14133017}, {'x': 0.8537815, 'y': 0.14133017}, {'x': 0.8537815, 'y': 0.15558195}, {'x': 0.75462186, 'y': 0.15558195}]}\n",
      "{'normalized_vertices': [{'x': 0.14285715, 'y': 0.18408552}, {'x': 0.21176471, 'y': 0.18408552}, {'x': 0.21176471, 'y': 0.19833729}, {'x': 0.14285715, 'y': 0.19833729}]}\n",
      "{'normalized_vertices': [{'x': 0.21512605, 'y': 0.18408552}, {'x': 0.24537815, 'y': 0.18408552}, {'x': 0.24537815, 'y': 0.19833729}, {'x': 0.21512605, 'y': 0.19833729}]}\n",
      "{'normalized_vertices': [{'x': 0.25714287, 'y': 0.18408552}, {'x': 0.28907564, 'y': 0.18408552}, {'x': 0.28907564, 'y': 0.19833729}, {'x': 0.25714287, 'y': 0.19833729}]}\n",
      "{'normalized_vertices': [{'x': 0.6151261, 'y': 0.21140142}, {'x': 0.66554624, 'y': 0.21140142}, {'x': 0.66554624, 'y': 0.23159145}, {'x': 0.6151261, 'y': 0.23159145}]}\n",
      "{'normalized_vertices': [{'x': 0.6689076, 'y': 0.21140142}, {'x': 0.71932775, 'y': 0.21140142}, {'x': 0.71932775, 'y': 0.23159145}, {'x': 0.6689076, 'y': 0.23159145}]}\n",
      "{'normalized_vertices': [{'x': 0.7226891, 'y': 0.21140142}, {'x': 0.7747899, 'y': 0.21140142}, {'x': 0.7747899, 'y': 0.23159145}, {'x': 0.7226891, 'y': 0.23159145}]}\n",
      "{'normalized_vertices': [{'x': 0.7764706, 'y': 0.21140142}, {'x': 0.8537815, 'y': 0.21140142}, {'x': 0.8537815, 'y': 0.23159145}, {'x': 0.7764706, 'y': 0.23159145}]}\n",
      "{'normalized_vertices': [{'x': 0.66554624, 'y': 0.24821852}, {'x': 0.6991597, 'y': 0.24821852}, {'x': 0.6991597, 'y': 0.26128265}, {'x': 0.66554624, 'y': 0.26128265}]}\n",
      "{'normalized_vertices': [{'x': 0.702521, 'y': 0.24821852}, {'x': 0.7529412, 'y': 0.24821852}, {'x': 0.7529412, 'y': 0.26128265}, {'x': 0.702521, 'y': 0.26128265}]}\n",
      "{'normalized_vertices': [{'x': 0.7697479, 'y': 0.24821852}, {'x': 0.8016807, 'y': 0.24821852}, {'x': 0.8016807, 'y': 0.2624703}, {'x': 0.7697479, 'y': 0.2624703}]}\n",
      "{'normalized_vertices': [{'x': 0.805042, 'y': 0.24821852}, {'x': 0.8537815, 'y': 0.24821852}, {'x': 0.8537815, 'y': 0.2624703}, {'x': 0.805042, 'y': 0.2624703}]}\n",
      "{'normalized_vertices': [{'x': 0.7747899, 'y': 0.27078384}, {'x': 0.7882353, 'y': 0.27078384}, {'x': 0.7882353, 'y': 0.28978622}, {'x': 0.7747899, 'y': 0.28978622}]}\n",
      "{'normalized_vertices': [{'x': 0.8084034, 'y': 0.27078384}, {'x': 0.81512606, 'y': 0.27078384}, {'x': 0.8134454, 'y': 0.28978622}, {'x': 0.8067227, 'y': 0.28978622}]}\n",
      "{'normalized_vertices': [{'x': 0.82184875, 'y': 0.27078384}, {'x': 0.82857144, 'y': 0.27078384}, {'x': 0.82857144, 'y': 0.28978622}, {'x': 0.8201681, 'y': 0.28978622}]}\n",
      "{'normalized_vertices': [{'x': 0.84705883, 'y': 0.2719715}, {'x': 0.85882354, 'y': 0.2719715}, {'x': 0.85882354, 'y': 0.29097387}, {'x': 0.84537816, 'y': 0.29097387}]}\n",
      "{'normalized_vertices': [{'x': 0.7764706, 'y': 0.28978622}, {'x': 0.8252101, 'y': 0.28859857}, {'x': 0.82689077, 'y': 0.30760095}, {'x': 0.7781513, 'y': 0.30997625}]}\n",
      "{'normalized_vertices': [{'x': 0.84033614, 'y': 0.2874109}, {'x': 0.8554622, 'y': 0.2874109}, {'x': 0.85714287, 'y': 0.30760095}, {'x': 0.8420168, 'y': 0.30760095}]}\n",
      "{'normalized_vertices': [{'x': 0.7781513, 'y': 0.30522564}, {'x': 0.8201681, 'y': 0.3064133}, {'x': 0.8184874, 'y': 0.32660332}, {'x': 0.7764706, 'y': 0.32422802}]}\n",
      "{'normalized_vertices': [{'x': 0.84033614, 'y': 0.30760095}, {'x': 0.85714287, 'y': 0.30760095}, {'x': 0.8554622, 'y': 0.32660332}, {'x': 0.8386555, 'y': 0.32660332}]}\n",
      "{'normalized_vertices': [{'x': 0.45882353, 'y': 0.37648457}, {'x': 0.5092437, 'y': 0.37648457}, {'x': 0.5092437, 'y': 0.39667457}, {'x': 0.45882353, 'y': 0.39667457}]}\n",
      "{'normalized_vertices': [{'x': 0.5126051, 'y': 0.37648457}, {'x': 0.5361345, 'y': 0.37648457}, {'x': 0.5361345, 'y': 0.39667457}, {'x': 0.5126051, 'y': 0.39667457}]}\n",
      "{'normalized_vertices': [{'x': 0.14117648, 'y': 0.4418052}, {'x': 0.15462185, 'y': 0.4418052}, {'x': 0.15462185, 'y': 0.45486936}, {'x': 0.14117648, 'y': 0.45486936}]}\n",
      "{'normalized_vertices': [{'x': 0.17310925, 'y': 0.4418052}, {'x': 0.20504202, 'y': 0.4418052}, {'x': 0.20504202, 'y': 0.45486936}, {'x': 0.17310925, 'y': 0.45486936}]}\n",
      "{'normalized_vertices': [{'x': 0.20840336, 'y': 0.4418052}, {'x': 0.22352941, 'y': 0.4418052}, {'x': 0.22352941, 'y': 0.45486936}, {'x': 0.20840336, 'y': 0.45486936}]}\n",
      "{'normalized_vertices': [{'x': 0.33109245, 'y': 0.4406176}, {'x': 0.36806723, 'y': 0.4406176}, {'x': 0.36806723, 'y': 0.45486936}, {'x': 0.33109245, 'y': 0.45486936}]}\n",
      "{'normalized_vertices': [{'x': 0.37310925, 'y': 0.4406176}, {'x': 0.3882353, 'y': 0.4406176}, {'x': 0.3882353, 'y': 0.45486936}, {'x': 0.37310925, 'y': 0.45486936}]}\n",
      "{'normalized_vertices': [{'x': 0.394958, 'y': 0.4406176}, {'x': 0.4117647, 'y': 0.4406176}, {'x': 0.4117647, 'y': 0.45486936}, {'x': 0.394958, 'y': 0.45486936}]}\n",
      "{'normalized_vertices': [{'x': 0.4184874, 'y': 0.4406176}, {'x': 0.45042017, 'y': 0.4406176}, {'x': 0.45042017, 'y': 0.45486936}, {'x': 0.4184874, 'y': 0.45486936}]}\n",
      "{'normalized_vertices': [{'x': 0.75462186, 'y': 0.4418052}, {'x': 0.7596639, 'y': 0.4418052}, {'x': 0.7596639, 'y': 0.45486936}, {'x': 0.75462186, 'y': 0.45486936}]}\n",
      "{'normalized_vertices': [{'x': 0.7747899, 'y': 0.4418052}, {'x': 0.83361346, 'y': 0.4418052}, {'x': 0.83361346, 'y': 0.45486936}, {'x': 0.7747899, 'y': 0.45486936}]}\n",
      "{'normalized_vertices': [{'x': 0.8436975, 'y': 0.4418052}, {'x': 0.8487395, 'y': 0.4418052}, {'x': 0.8487395, 'y': 0.45486936}, {'x': 0.8436975, 'y': 0.45486936}]}\n",
      "{'normalized_vertices': [{'x': 0.14285715, 'y': 0.48456058}, {'x': 0.15294118, 'y': 0.48456058}, {'x': 0.15294118, 'y': 0.4976247}, {'x': 0.14285715, 'y': 0.4976247}]}\n",
      "{'normalized_vertices': [{'x': 0.17310925, 'y': 0.48456058}, {'x': 0.20504202, 'y': 0.48456058}, {'x': 0.20504202, 'y': 0.4976247}, {'x': 0.17310925, 'y': 0.4976247}]}\n",
      "{'normalized_vertices': [{'x': 0.20840336, 'y': 0.48456058}, {'x': 0.2420168, 'y': 0.48456058}, {'x': 0.2420168, 'y': 0.4976247}, {'x': 0.20840336, 'y': 0.4976247}]}\n",
      "{'normalized_vertices': [{'x': 0.34285715, 'y': 0.48337293}, {'x': 0.3462185, 'y': 0.48337293}, {'x': 0.3462185, 'y': 0.49643704}, {'x': 0.34285715, 'y': 0.49643704}]}\n",
      "{'normalized_vertices': [{'x': 0.34957984, 'y': 0.48337293}, {'x': 0.36638656, 'y': 0.48337293}, {'x': 0.36638656, 'y': 0.49643704}, {'x': 0.34957984, 'y': 0.49643704}]}\n",
      "{'normalized_vertices': [{'x': 0.3697479, 'y': 0.48337293}, {'x': 0.38319328, 'y': 0.48337293}, {'x': 0.38319328, 'y': 0.49643704}, {'x': 0.3697479, 'y': 0.49643704}]}\n",
      "{'normalized_vertices': [{'x': 0.38655463, 'y': 0.48337293}, {'x': 0.38991597, 'y': 0.48337293}, {'x': 0.38991597, 'y': 0.4976247}, {'x': 0.38655463, 'y': 0.4976247}]}\n",
      "{'normalized_vertices': [{'x': 0.7596639, 'y': 0.48456058}, {'x': 0.7647059, 'y': 0.48456058}, {'x': 0.7647059, 'y': 0.4976247}, {'x': 0.7596639, 'y': 0.4976247}]}\n",
      "{'normalized_vertices': [{'x': 0.77983195, 'y': 0.48456058}, {'x': 0.82857144, 'y': 0.48456058}, {'x': 0.82857144, 'y': 0.4976247}, {'x': 0.77983195, 'y': 0.4976247}]}\n",
      "{'normalized_vertices': [{'x': 0.84033614, 'y': 0.48456058}, {'x': 0.84537816, 'y': 0.48456058}, {'x': 0.84537816, 'y': 0.4976247}, {'x': 0.84033614, 'y': 0.4976247}]}\n",
      "{'normalized_vertices': [{'x': 0.14285715, 'y': 0.5273159}, {'x': 0.15462185, 'y': 0.5273159}, {'x': 0.15462185, 'y': 0.54038006}, {'x': 0.14285715, 'y': 0.54038006}]}\n",
      "{'normalized_vertices': [{'x': 0.17310925, 'y': 0.5273159}, {'x': 0.20672269, 'y': 0.5273159}, {'x': 0.20672269, 'y': 0.54038006}, {'x': 0.17310925, 'y': 0.54038006}]}\n",
      "{'normalized_vertices': [{'x': 0.20840336, 'y': 0.5273159}, {'x': 0.2420168, 'y': 0.5273159}, {'x': 0.2420168, 'y': 0.54038006}, {'x': 0.20840336, 'y': 0.54038006}]}\n",
      "{'normalized_vertices': [{'x': 0.24369748, 'y': 0.5273159}, {'x': 0.27731094, 'y': 0.5273159}, {'x': 0.27731094, 'y': 0.54038006}, {'x': 0.24369748, 'y': 0.54038006}]}\n",
      "{'normalized_vertices': [{'x': 0.34285715, 'y': 0.5273159}, {'x': 0.34789917, 'y': 0.5273159}, {'x': 0.34789917, 'y': 0.54038006}, {'x': 0.34285715, 'y': 0.54038006}]}\n",
      "{'normalized_vertices': [{'x': 0.3512605, 'y': 0.5273159}, {'x': 0.3764706, 'y': 0.5273159}, {'x': 0.3764706, 'y': 0.54038006}, {'x': 0.3512605, 'y': 0.54038006}]}\n",
      "{'normalized_vertices': [{'x': 0.38319328, 'y': 0.5273159}, {'x': 0.39831933, 'y': 0.5273159}, {'x': 0.39831933, 'y': 0.54038006}, {'x': 0.38319328, 'y': 0.54038006}]}\n",
      "{'normalized_vertices': [{'x': 0.40168068, 'y': 0.5273159}, {'x': 0.41512606, 'y': 0.5273159}, {'x': 0.41512606, 'y': 0.54038006}, {'x': 0.40168068, 'y': 0.54038006}]}\n",
      "{'normalized_vertices': [{'x': 0.42016807, 'y': 0.5273159}, {'x': 0.45042017, 'y': 0.5273159}, {'x': 0.45042017, 'y': 0.54038006}, {'x': 0.42016807, 'y': 0.54038006}]}\n",
      "{'normalized_vertices': [{'x': 0.45882353, 'y': 0.5273159}, {'x': 0.497479, 'y': 0.5273159}, {'x': 0.497479, 'y': 0.54038006}, {'x': 0.45882353, 'y': 0.54038006}]}\n",
      "{'normalized_vertices': [{'x': 0.50084037, 'y': 0.5273159}, {'x': 0.51428574, 'y': 0.5273159}, {'x': 0.51428574, 'y': 0.54038006}, {'x': 0.50084037, 'y': 0.54038006}]}\n",
      "{'normalized_vertices': [{'x': 0.5159664, 'y': 0.5273159}, {'x': 0.54957986, 'y': 0.5273159}, {'x': 0.54957986, 'y': 0.54038006}, {'x': 0.5159664, 'y': 0.54038006}]}\n",
      "{'normalized_vertices': [{'x': 0.5529412, 'y': 0.5273159}, {'x': 0.56806725, 'y': 0.5273159}, {'x': 0.56806725, 'y': 0.54038006}, {'x': 0.5529412, 'y': 0.54038006}]}\n",
      "{'normalized_vertices': [{'x': 0.57478994, 'y': 0.5273159}, {'x': 0.6151261, 'y': 0.5273159}, {'x': 0.6151261, 'y': 0.54038006}, {'x': 0.57478994, 'y': 0.54038006}]}\n",
      "{'normalized_vertices': [{'x': 0.6184874, 'y': 0.5273159}, {'x': 0.6319328, 'y': 0.5273159}, {'x': 0.6319328, 'y': 0.54038006}, {'x': 0.6184874, 'y': 0.54038006}]}\n",
      "{'normalized_vertices': [{'x': 0.63361347, 'y': 0.5273159}, {'x': 0.6386555, 'y': 0.5273159}, {'x': 0.6386555, 'y': 0.54038006}, {'x': 0.63361347, 'y': 0.54038006}]}\n",
      "{'normalized_vertices': [{'x': 0.75630254, 'y': 0.5273159}, {'x': 0.77310926, 'y': 0.5273159}, {'x': 0.77310926, 'y': 0.54038006}, {'x': 0.75630254, 'y': 0.54038006}]}\n",
      "{'normalized_vertices': [{'x': 0.77983195, 'y': 0.5273159}, {'x': 0.8302521, 'y': 0.5273159}, {'x': 0.8302521, 'y': 0.54038006}, {'x': 0.77983195, 'y': 0.54038006}]}\n",
      "{'normalized_vertices': [{'x': 0.8369748, 'y': 0.5273159}, {'x': 0.8504202, 'y': 0.5273159}, {'x': 0.8504202, 'y': 0.54038006}, {'x': 0.8369748, 'y': 0.54038006}]}\n",
      "{'normalized_vertices': [{'x': 0.14285715, 'y': 0.5688836}, {'x': 0.1764706, 'y': 0.5688836}, {'x': 0.1764706, 'y': 0.58313537}, {'x': 0.14285715, 'y': 0.58313537}]}\n",
      "{'normalized_vertices': [{'x': 0.17815126, 'y': 0.5688836}, {'x': 0.21176471, 'y': 0.5688836}, {'x': 0.21176471, 'y': 0.58313537}, {'x': 0.17815126, 'y': 0.58313537}]}\n",
      "{'normalized_vertices': [{'x': 0.21344538, 'y': 0.5688836}, {'x': 0.24705882, 'y': 0.5688836}, {'x': 0.24705882, 'y': 0.58313537}, {'x': 0.21344538, 'y': 0.58313537}]}\n",
      "{'normalized_vertices': [{'x': 0.34117648, 'y': 0.5688836}, {'x': 0.3462185, 'y': 0.5688836}, {'x': 0.3462185, 'y': 0.58194774}, {'x': 0.34117648, 'y': 0.58194774}]}\n",
      "{'normalized_vertices': [{'x': 0.34789917, 'y': 0.5688836}, {'x': 0.35966387, 'y': 0.5688836}, {'x': 0.35966387, 'y': 0.58194774}, {'x': 0.34789917, 'y': 0.58194774}]}\n",
      "{'normalized_vertices': [{'x': 0.37142858, 'y': 0.5688836}, {'x': 0.38319328, 'y': 0.5688836}, {'x': 0.38319328, 'y': 0.58194774}, {'x': 0.37142858, 'y': 0.58194774}]}\n",
      "{'normalized_vertices': [{'x': 0.39663866, 'y': 0.5688836}, {'x': 0.4067227, 'y': 0.5688836}, {'x': 0.4067227, 'y': 0.58194774}, {'x': 0.39663866, 'y': 0.58194774}]}\n",
      "{'normalized_vertices': [{'x': 0.41680673, 'y': 0.5688836}, {'x': 0.43361345, 'y': 0.5688836}, {'x': 0.43361345, 'y': 0.58313537}, {'x': 0.41680673, 'y': 0.58313537}]}\n",
      "{'normalized_vertices': [{'x': 0.44369748, 'y': 0.5688836}, {'x': 0.4554622, 'y': 0.5688836}, {'x': 0.4554622, 'y': 0.58313537}, {'x': 0.44369748, 'y': 0.58313537}]}\n",
      "{'normalized_vertices': [{'x': 0.45714286, 'y': 0.5688836}, {'x': 0.46218488, 'y': 0.5688836}, {'x': 0.46218488, 'y': 0.58313537}, {'x': 0.45714286, 'y': 0.58313537}]}\n",
      "{'normalized_vertices': [{'x': 0.7529412, 'y': 0.5700713}, {'x': 0.7579832, 'y': 0.5700713}, {'x': 0.7579832, 'y': 0.58313537}, {'x': 0.7529412, 'y': 0.58313537}]}\n",
      "{'normalized_vertices': [{'x': 0.77310926, 'y': 0.5700713}, {'x': 0.8319328, 'y': 0.5700713}, {'x': 0.8319328, 'y': 0.58313537}, {'x': 0.77310926, 'y': 0.58313537}]}\n",
      "{'normalized_vertices': [{'x': 0.8420168, 'y': 0.5700713}, {'x': 0.84705883, 'y': 0.5700713}, {'x': 0.84705883, 'y': 0.58313537}, {'x': 0.8420168, 'y': 0.58313537}]}\n",
      "{'normalized_vertices': [{'x': 0.14285715, 'y': 0.6543943}, {'x': 0.17478992, 'y': 0.6543943}, {'x': 0.17478992, 'y': 0.6686461}, {'x': 0.14285715, 'y': 0.6686461}]}\n",
      "{'normalized_vertices': [{'x': 0.1764706, 'y': 0.6543943}, {'x': 0.20840336, 'y': 0.6543943}, {'x': 0.20840336, 'y': 0.6686461}, {'x': 0.1764706, 'y': 0.6686461}]}\n",
      "{'normalized_vertices': [{'x': 0.21008404, 'y': 0.6543943}, {'x': 0.24369748, 'y': 0.6543943}, {'x': 0.24369748, 'y': 0.6686461}, {'x': 0.21008404, 'y': 0.6686461}]}\n",
      "{'normalized_vertices': [{'x': 0.2487395, 'y': 0.6543943}, {'x': 0.27731094, 'y': 0.6543943}, {'x': 0.27731094, 'y': 0.6686461}, {'x': 0.2487395, 'y': 0.6686461}]}\n",
      "{'normalized_vertices': [{'x': 0.28907564, 'y': 0.6543943}, {'x': 0.292437, 'y': 0.6543943}, {'x': 0.292437, 'y': 0.6686461}, {'x': 0.28907564, 'y': 0.6686461}]}\n",
      "{'normalized_vertices': [{'x': 0.30084035, 'y': 0.6543943}, {'x': 0.33109245, 'y': 0.6543943}, {'x': 0.33109245, 'y': 0.6686461}, {'x': 0.30084035, 'y': 0.6686461}]}\n",
      "{'normalized_vertices': [{'x': 0.34117648, 'y': 0.6543943}, {'x': 0.3462185, 'y': 0.6543943}, {'x': 0.3462185, 'y': 0.6686461}, {'x': 0.34117648, 'y': 0.6686461}]}\n",
      "{'normalized_vertices': [{'x': 0.35462186, 'y': 0.6543943}, {'x': 0.38319328, 'y': 0.6543943}, {'x': 0.38319328, 'y': 0.6686461}, {'x': 0.35462186, 'y': 0.6686461}]}\n",
      "{'normalized_vertices': [{'x': 0.39663866, 'y': 0.6543943}, {'x': 0.4, 'y': 0.6543943}, {'x': 0.4, 'y': 0.6686461}, {'x': 0.39663866, 'y': 0.6686461}]}\n",
      "{'normalized_vertices': [{'x': 0.41512606, 'y': 0.6543943}, {'x': 0.4184874, 'y': 0.6543943}, {'x': 0.4184874, 'y': 0.6686461}, {'x': 0.41512606, 'y': 0.6686461}]}\n",
      "{'normalized_vertices': [{'x': 0.4252101, 'y': 0.6543943}, {'x': 0.4722689, 'y': 0.6543943}, {'x': 0.4722689, 'y': 0.6686461}, {'x': 0.4252101, 'y': 0.6686461}]}\n",
      "{'normalized_vertices': [{'x': 0.47731093, 'y': 0.6543943}, {'x': 0.5462185, 'y': 0.6543943}, {'x': 0.5462185, 'y': 0.6686461}, {'x': 0.47731093, 'y': 0.6686461}]}\n",
      "{'normalized_vertices': [{'x': 0.54957986, 'y': 0.6543943}, {'x': 0.5781513, 'y': 0.6543943}, {'x': 0.5781513, 'y': 0.6686461}, {'x': 0.54957986, 'y': 0.6686461}]}\n",
      "{'normalized_vertices': [{'x': 0.5831933, 'y': 0.6543943}, {'x': 0.6134454, 'y': 0.6543943}, {'x': 0.6134454, 'y': 0.6686461}, {'x': 0.5831933, 'y': 0.6686461}]}\n",
      "{'normalized_vertices': [{'x': 0.62184876, 'y': 0.6543943}, {'x': 0.6722689, 'y': 0.6543943}, {'x': 0.6722689, 'y': 0.6686461}, {'x': 0.62184876, 'y': 0.6686461}]}\n",
      "{'normalized_vertices': [{'x': 0.67058825, 'y': 0.6543943}, {'x': 0.73781514, 'y': 0.6543943}, {'x': 0.73781514, 'y': 0.6686461}, {'x': 0.67058825, 'y': 0.6686461}]}\n",
      "{'normalized_vertices': [{'x': 0.7411765, 'y': 0.6543943}, {'x': 0.77310926, 'y': 0.6543943}, {'x': 0.77310926, 'y': 0.6686461}, {'x': 0.7411765, 'y': 0.6686461}]}\n",
      "{'normalized_vertices': [{'x': 0.7781513, 'y': 0.6543943}, {'x': 0.7815126, 'y': 0.6543943}, {'x': 0.7815126, 'y': 0.6686461}, {'x': 0.7781513, 'y': 0.6686461}]}\n",
      "{'normalized_vertices': [{'x': 0.14453782, 'y': 0.7185273}, {'x': 0.1764706, 'y': 0.7185273}, {'x': 0.1764706, 'y': 0.7327791}, {'x': 0.14453782, 'y': 0.7327791}]}\n",
      "{'normalized_vertices': [{'x': 0.17815126, 'y': 0.7185273}, {'x': 0.19159664, 'y': 0.7185273}, {'x': 0.19159664, 'y': 0.7327791}, {'x': 0.17815126, 'y': 0.7327791}]}\n",
      "{'normalized_vertices': [{'x': 0.20336135, 'y': 0.7185273}, {'x': 0.20504202, 'y': 0.7185273}, {'x': 0.20504202, 'y': 0.7327791}, {'x': 0.20336135, 'y': 0.7327791}]}\n",
      "{'normalized_vertices': [{'x': 0.21344538, 'y': 0.7185273}, {'x': 0.24705882, 'y': 0.7185273}, {'x': 0.24705882, 'y': 0.7327791}, {'x': 0.21344538, 'y': 0.7327791}]}\n",
      "{'normalized_vertices': [{'x': 0.25042018, 'y': 0.7185273}, {'x': 0.28235295, 'y': 0.7185273}, {'x': 0.28235295, 'y': 0.7327791}, {'x': 0.25042018, 'y': 0.7327791}]}\n",
      "{'normalized_vertices': [{'x': 0.28403363, 'y': 0.7185273}, {'x': 0.31764707, 'y': 0.7185273}, {'x': 0.31764707, 'y': 0.7327791}, {'x': 0.28403363, 'y': 0.7327791}]}\n",
      "{'normalized_vertices': [{'x': 0.31932774, 'y': 0.7185273}, {'x': 0.3697479, 'y': 0.7185273}, {'x': 0.3697479, 'y': 0.7327791}, {'x': 0.31932774, 'y': 0.7327791}]}\n",
      "{'normalized_vertices': [{'x': 0.14453782, 'y': 0.739905}, {'x': 0.19159664, 'y': 0.739905}, {'x': 0.19159664, 'y': 0.75296915}, {'x': 0.14453782, 'y': 0.75296915}]}\n",
      "{'normalized_vertices': [{'x': 0.19663866, 'y': 0.739905}, {'x': 0.22857143, 'y': 0.739905}, {'x': 0.22857143, 'y': 0.75296915}, {'x': 0.19663866, 'y': 0.75296915}]}\n",
      "{'normalized_vertices': [{'x': 0.2487395, 'y': 0.739905}, {'x': 0.28235295, 'y': 0.739905}, {'x': 0.28235295, 'y': 0.75296915}, {'x': 0.2487395, 'y': 0.75296915}]}\n",
      "{'normalized_vertices': [{'x': 0.2857143, 'y': 0.739905}, {'x': 0.31764707, 'y': 0.739905}, {'x': 0.31764707, 'y': 0.75296915}, {'x': 0.2857143, 'y': 0.75296915}]}\n",
      "{'normalized_vertices': [{'x': 0.31932774, 'y': 0.739905}, {'x': 0.3512605, 'y': 0.739905}, {'x': 0.3512605, 'y': 0.75296915}, {'x': 0.31932774, 'y': 0.75296915}]}\n",
      "{'normalized_vertices': [{'x': 0.37142858, 'y': 0.739905}, {'x': 0.40504202, 'y': 0.739905}, {'x': 0.40504202, 'y': 0.75296915}, {'x': 0.37142858, 'y': 0.75296915}]}\n",
      "{'normalized_vertices': [{'x': 0.42689076, 'y': 0.739905}, {'x': 0.48907563, 'y': 0.739905}, {'x': 0.48907563, 'y': 0.75296915}, {'x': 0.42689076, 'y': 0.75296915}]}\n"
     ]
    }
   ],
   "source": [
    "# extract json file\n",
    "with open(json_dir + \"sample1.json\", \"r\") as file:\n",
    "    char_recognition = json.load(file)\n",
    "\n",
    "blocks = char_recognition['responses'][0]['full_text_annotation']['pages'][0]['blocks']\n",
    "\n",
    "words_lists = []\n",
    "for i in range(len(blocks)):\n",
    "    paragraphs = blocks[i]['paragraphs']\n",
    "    for j in range(len(paragraphs)):\n",
    "        words_list = paragraphs[j]['words']\n",
    "        words_lists.append(words_list)\n",
    "\n",
    "words = []\n",
    "\n",
    "for words_data in words_lists:\n",
    "    for i in range(len(words_data)):            \n",
    "        word = []\n",
    "        symbols = words_data[i]['symbols']\n",
    "        # print(words_data[i]['bounding_box'])\n",
    "        for j in range(len(symbols)):\n",
    "            word.append(symbols[j]['text'])\n",
    "        conbined_word = ''.join(word)\n",
    "        words.append(conbined_word)\n",
    "    "
   ]
  },
  {
   "cell_type": "code",
   "execution_count": 5,
   "metadata": {},
   "outputs": [],
   "source": [
    "responses = char_recognition['responses']"
   ]
  },
  {
   "cell_type": "code",
   "execution_count": 6,
   "metadata": {},
   "outputs": [
    {
     "data": {
      "text/plain": [
       "1"
      ]
     },
     "execution_count": 6,
     "metadata": {},
     "output_type": "execute_result"
    }
   ],
   "source": [
    "len(responses)"
   ]
  },
  {
   "cell_type": "code",
   "execution_count": 6,
   "metadata": {},
   "outputs": [
    {
     "name": "stdout",
     "output_type": "stream",
     "text": [
      "dict_keys(['full_text_annotation', 'context'])\n"
     ]
    }
   ],
   "source": [
    "responses_dict = responses[0]\n",
    "print(responses_dict.keys())"
   ]
  },
  {
   "cell_type": "code",
   "execution_count": 7,
   "metadata": {},
   "outputs": [],
   "source": [
    "full_text_anotation = responses_dict['full_text_annotation']\n",
    "context = responses_dict['context']"
   ]
  },
  {
   "cell_type": "code",
   "execution_count": 13,
   "metadata": {},
   "outputs": [
    {
     "name": "stdout",
     "output_type": "stream",
     "text": [
      "{'page_number': 1}\n"
     ]
    }
   ],
   "source": [
    "print(context)"
   ]
  },
  {
   "cell_type": "code",
   "execution_count": 15,
   "metadata": {},
   "outputs": [
    {
     "data": {
      "text/plain": [
       "dict_keys(['pages', 'text'])"
      ]
     },
     "execution_count": 15,
     "metadata": {},
     "output_type": "execute_result"
    }
   ],
   "source": [
    "full_text_anotation.keys()"
   ]
  },
  {
   "cell_type": "code",
   "execution_count": 31,
   "metadata": {},
   "outputs": [
    {
     "data": {
      "text/plain": [
       "'2021年1月4日\\n請求書番号:2020-048911\\n株式会社デモ 御中\\n宮崎国際法律事務所\\n代表弁護士 宮崎サトシ\\n宮崎国編\\n南浦事\\n所西\\n請求書\\nA 顧問料\\n2020年 12月分\\n金 300,000円\\nB 消費税額\\n(10%)\\n金 30,000円\\nC 源泉調整税額\\n(100万円まで 10.21%超過分 20.42%)\\n金30,630円\\n合計請求金額\\n(A + B - C)\\n金 299,370円\\n上記合計請求金額を下記の口座にお振込みくださいますようお願い申し上げます。\\n口座名:宮崎国際法律事務所\\nみずほ銀行 渋谷中央支店 普通 1234567\\n'"
      ]
     },
     "execution_count": 31,
     "metadata": {},
     "output_type": "execute_result"
    }
   ],
   "source": [
    "full_text_anotation['text']"
   ]
  },
  {
   "cell_type": "code",
   "execution_count": 8,
   "metadata": {},
   "outputs": [
    {
     "name": "stdout",
     "output_type": "stream",
     "text": [
      "dict_keys(['property', 'width', 'height', 'blocks'])\n"
     ]
    }
   ],
   "source": [
    "pages = full_text_anotation['pages'][0]\n",
    "print(pages.keys())"
   ]
  },
  {
   "cell_type": "code",
   "execution_count": 9,
   "metadata": {},
   "outputs": [
    {
     "name": "stdout",
     "output_type": "stream",
     "text": [
      "595\n",
      "842\n",
      "{'property': {'detected_languages': [{'language_code': 'ja', 'confidence': 0.65}, {'language_code': 'zh', 'confidence': 0.35}]}, 'bounding_box': {'normalized_vertices': [{'x': 0.6487395, 'y': 0.11995249}, {'x': 0.8537815, 'y': 0.11995249}, {'x': 0.8537815, 'y': 0.15558195}, {'x': 0.6487395, 'y': 0.15558195}]}, 'paragraphs': [{'property': {'detected_languages': [{'language_code': 'ja', 'confidence': 0.65}, {'language_code': 'zh', 'confidence': 0.35}]}, 'bounding_box': {'normalized_vertices': [{'x': 0.6487395, 'y': 0.11995249}, {'x': 0.8537815, 'y': 0.11995249}, {'x': 0.8537815, 'y': 0.15558195}, {'x': 0.6487395, 'y': 0.15558195}]}, 'words': [{'property': {'detected_languages': [{'language_code': 'zh'}]}, 'bounding_box': {'normalized_vertices': [{'x': 0.72436976, 'y': 0.11995249}, {'x': 0.7596639, 'y': 0.11995249}, {'x': 0.7596639, 'y': 0.13420427}, {'x': 0.72436976, 'y': 0.13420427}]}, 'symbols': [{'property': {'detected_languages': [{'language_code': 'zh'}]}, 'text': '2', 'confidence': 0.99}, {'property': {'detected_languages': [{'language_code': 'zh'}]}, 'text': '0', 'confidence': 0.99}, {'property': {'detected_languages': [{'language_code': 'zh'}]}, 'text': '2', 'confidence': 0.98}, {'property': {'detected_languages': [{'language_code': 'zh'}]}, 'text': '1', 'confidence': 0.99}], 'confidence': 0.98}, {'property': {'detected_languages': [{'language_code': 'zh'}]}, 'bounding_box': {'normalized_vertices': [{'x': 0.76638657, 'y': 0.11995249}, {'x': 0.7815126, 'y': 0.11995249}, {'x': 0.7815126, 'y': 0.13420427}, {'x': 0.76638657, 'y': 0.13420427}]}, 'symbols': [{'property': {'detected_languages': [{'language_code': 'zh'}]}, 'text': '年', 'confidence': 0.84}], 'confidence': 0.84}, {'property': {'detected_languages': [{'language_code': 'zh'}]}, 'bounding_box': {'normalized_vertices': [{'x': 0.789916, 'y': 0.11995249}, {'x': 0.794958, 'y': 0.11995249}, {'x': 0.794958, 'y': 0.13420427}, {'x': 0.789916, 'y': 0.13420427}]}, 'symbols': [{'property': {'detected_languages': [{'language_code': 'zh'}]}, 'text': '1', 'confidence': 0.85}], 'confidence': 0.85}, {'property': {'detected_languages': [{'language_code': 'zh'}]}, 'bounding_box': {'normalized_vertices': [{'x': 0.80336136, 'y': 0.11995249}, {'x': 0.81512606, 'y': 0.11995249}, {'x': 0.81512606, 'y': 0.13420427}, {'x': 0.80336136, 'y': 0.13420427}]}, 'symbols': [{'property': {'detected_languages': [{'language_code': 'zh'}]}, 'text': '月', 'confidence': 0.81}], 'confidence': 0.81}, {'property': {'detected_languages': [{'language_code': 'zh'}]}, 'bounding_box': {'normalized_vertices': [{'x': 0.8252101, 'y': 0.11995249}, {'x': 0.8319328, 'y': 0.11995249}, {'x': 0.8319328, 'y': 0.13420427}, {'x': 0.8252101, 'y': 0.13420427}]}, 'symbols': [{'property': {'detected_languages': [{'language_code': 'zh'}]}, 'text': '4', 'confidence': 0.98}], 'confidence': 0.98}, {'property': {'detected_languages': [{'language_code': 'zh'}]}, 'bounding_box': {'normalized_vertices': [{'x': 0.8420168, 'y': 0.11995249}, {'x': 0.85210085, 'y': 0.11995249}, {'x': 0.85210085, 'y': 0.13420427}, {'x': 0.8420168, 'y': 0.13420427}]}, 'symbols': [{'property': {'detected_languages': [{'language_code': 'zh'}], 'detected_break': {'type': 3}}, 'text': '日', 'confidence': 0.99}], 'confidence': 0.99}, {'property': {'detected_languages': [{'language_code': 'ja'}]}, 'bounding_box': {'normalized_vertices': [{'x': 0.6487395, 'y': 0.14133017}, {'x': 0.6806723, 'y': 0.14133017}, {'x': 0.6806723, 'y': 0.15558195}, {'x': 0.6487395, 'y': 0.15558195}]}, 'symbols': [{'property': {'detected_languages': [{'language_code': 'ja'}]}, 'text': '請', 'confidence': 0.98}, {'property': {'detected_languages': [{'language_code': 'ja'}]}, 'text': '求', 'confidence': 1}], 'confidence': 0.99}, {'property': {'detected_languages': [{'language_code': 'ja'}]}, 'bounding_box': {'normalized_vertices': [{'x': 0.68403363, 'y': 0.14133017}, {'x': 0.6991597, 'y': 0.14133017}, {'x': 0.6991597, 'y': 0.15558195}, {'x': 0.68403363, 'y': 0.15558195}]}, 'symbols': [{'property': {'detected_languages': [{'language_code': 'ja'}]}, 'text': '書', 'confidence': 0.99}], 'confidence': 0.99}, {'property': {'detected_languages': [{'language_code': 'ja'}]}, 'bounding_box': {'normalized_vertices': [{'x': 0.70084035, 'y': 0.14133017}, {'x': 0.7344538, 'y': 0.14133017}, {'x': 0.7344538, 'y': 0.15558195}, {'x': 0.70084035, 'y': 0.15558195}]}, 'symbols': [{'property': {'detected_languages': [{'language_code': 'ja'}]}, 'text': '番', 'confidence': 0.98}, {'property': {'detected_languages': [{'language_code': 'ja'}]}, 'text': '号', 'confidence': 0.99}], 'confidence': 0.98}, {'property': {'detected_languages': [{'language_code': 'ja'}]}, 'bounding_box': {'normalized_vertices': [{'x': 0.74285716, 'y': 0.14133017}, {'x': 0.74453783, 'y': 0.14133017}, {'x': 0.74453783, 'y': 0.15558195}, {'x': 0.74285716, 'y': 0.15558195}]}, 'symbols': [{'property': {'detected_languages': [{'language_code': 'ja'}]}, 'text': ':', 'confidence': 0.97}], 'confidence': 0.97}, {'property': {'detected_languages': [{'language_code': 'ja'}]}, 'bounding_box': {'normalized_vertices': [{'x': 0.75462186, 'y': 0.14133017}, {'x': 0.8537815, 'y': 0.14133017}, {'x': 0.8537815, 'y': 0.15558195}, {'x': 0.75462186, 'y': 0.15558195}]}, 'symbols': [{'property': {'detected_languages': [{'language_code': 'ja'}]}, 'text': '2', 'confidence': 0.92}, {'property': {'detected_languages': [{'language_code': 'ja'}]}, 'text': '0', 'confidence': 0.94}, {'property': {'detected_languages': [{'language_code': 'ja'}]}, 'text': '2', 'confidence': 0.93}, {'property': {'detected_languages': [{'language_code': 'ja'}]}, 'text': '0', 'confidence': 0.99}, {'property': {'detected_languages': [{'language_code': 'ja'}]}, 'text': '-', 'confidence': 0.98}, {'property': {'detected_languages': [{'language_code': 'ja'}]}, 'text': '0', 'confidence': 0.99}, {'property': {'detected_languages': [{'language_code': 'ja'}]}, 'text': '4', 'confidence': 0.99}, {'property': {'detected_languages': [{'language_code': 'ja'}]}, 'text': '8', 'confidence': 0.98}, {'property': {'detected_languages': [{'language_code': 'ja'}]}, 'text': '9', 'confidence': 0.99}, {'property': {'detected_languages': [{'language_code': 'ja'}]}, 'text': '1', 'confidence': 0.99}, {'property': {'detected_languages': [{'language_code': 'ja'}], 'detected_break': {'type': 5}}, 'text': '1', 'confidence': 0.99}], 'confidence': 0.97}], 'confidence': 0.96}], 'block_type': 1, 'confidence': 0.96}\n"
     ]
    }
   ],
   "source": [
    "print(pages['width'])\n",
    "print(pages['height'])\n",
    "blocks = pages['blocks']\n",
    "print(blocks[0])"
   ]
  },
  {
   "cell_type": "code",
   "execution_count": 10,
   "metadata": {},
   "outputs": [
    {
     "name": "stdout",
     "output_type": "stream",
     "text": [
      "21\n",
      "dict_keys(['property', 'bounding_box', 'paragraphs', 'block_type', 'confidence'])\n"
     ]
    }
   ],
   "source": [
    "print(len(blocks))\n",
    "block0 = blocks[0]\n",
    "print(block0.keys())"
   ]
  },
  {
   "cell_type": "code",
   "execution_count": 36,
   "metadata": {},
   "outputs": [
    {
     "data": {
      "text/plain": [
       "{'detected_languages': [{'language_code': 'ja', 'confidence': 0.65},\n",
       "  {'language_code': 'zh', 'confidence': 0.35}]}"
      ]
     },
     "execution_count": 36,
     "metadata": {},
     "output_type": "execute_result"
    }
   ],
   "source": [
    "block0['property']"
   ]
  },
  {
   "cell_type": "code",
   "execution_count": 37,
   "metadata": {},
   "outputs": [
    {
     "data": {
      "text/plain": [
       "{'normalized_vertices': [{'x': 0.6487395, 'y': 0.11995249},\n",
       "  {'x': 0.8537815, 'y': 0.11995249},\n",
       "  {'x': 0.8537815, 'y': 0.15558195},\n",
       "  {'x': 0.6487395, 'y': 0.15558195}]}"
      ]
     },
     "execution_count": 37,
     "metadata": {},
     "output_type": "execute_result"
    }
   ],
   "source": [
    "block0['bounding_box']"
   ]
  },
  {
   "cell_type": "code",
   "execution_count": 11,
   "metadata": {},
   "outputs": [
    {
     "data": {
      "text/plain": [
       "dict_keys(['property', 'bounding_box', 'words', 'confidence'])"
      ]
     },
     "execution_count": 11,
     "metadata": {},
     "output_type": "execute_result"
    }
   ],
   "source": [
    "paragraphs = block0['paragraphs'][0]\n",
    "paragraphs.keys()"
   ]
  },
  {
   "cell_type": "code",
   "execution_count": 12,
   "metadata": {},
   "outputs": [],
   "source": [
    "words_data = paragraphs['words']"
   ]
  },
  {
   "cell_type": "code",
   "execution_count": 16,
   "metadata": {},
   "outputs": [
    {
     "name": "stdout",
     "output_type": "stream",
     "text": [
      "0.72436976\n"
     ]
    }
   ],
   "source": [
    "words_data[0]['bounding_box']\n",
    "print(words_data[0]['bounding_box']['normalized_vertices'][0]['x'])"
   ]
  },
  {
   "cell_type": "code",
   "execution_count": 62,
   "metadata": {},
   "outputs": [
    {
     "data": {
      "text/plain": [
       "11"
      ]
     },
     "execution_count": 62,
     "metadata": {},
     "output_type": "execute_result"
    }
   ],
   "source": [
    "len(words)"
   ]
  },
  {
   "cell_type": "code",
   "execution_count": 49,
   "metadata": {},
   "outputs": [],
   "source": [
    "word0 = words[0]"
   ]
  },
  {
   "cell_type": "code",
   "execution_count": 51,
   "metadata": {},
   "outputs": [
    {
     "name": "stdout",
     "output_type": "stream",
     "text": [
      "[{'property': {'detected_languages': [{'language_code': 'zh'}]}, 'bounding_box': {'normalized_vertices': [{'x': 0.72436976, 'y': 0.11995249}, {'x': 0.7596639, 'y': 0.11995249}, {'x': 0.7596639, 'y': 0.13420427}, {'x': 0.72436976, 'y': 0.13420427}]}, 'symbols': [{'property': {'detected_languages': [{'language_code': 'zh'}]}, 'text': '2', 'confidence': 0.99}, {'property': {'detected_languages': [{'language_code': 'zh'}]}, 'text': '0', 'confidence': 0.99}, {'property': {'detected_languages': [{'language_code': 'zh'}]}, 'text': '2', 'confidence': 0.98}, {'property': {'detected_languages': [{'language_code': 'zh'}]}, 'text': '1', 'confidence': 0.99}], 'confidence': 0.98}, {'property': {'detected_languages': [{'language_code': 'zh'}]}, 'bounding_box': {'normalized_vertices': [{'x': 0.76638657, 'y': 0.11995249}, {'x': 0.7815126, 'y': 0.11995249}, {'x': 0.7815126, 'y': 0.13420427}, {'x': 0.76638657, 'y': 0.13420427}]}, 'symbols': [{'property': {'detected_languages': [{'language_code': 'zh'}]}, 'text': '年', 'confidence': 0.84}], 'confidence': 0.84}, {'property': {'detected_languages': [{'language_code': 'zh'}]}, 'bounding_box': {'normalized_vertices': [{'x': 0.789916, 'y': 0.11995249}, {'x': 0.794958, 'y': 0.11995249}, {'x': 0.794958, 'y': 0.13420427}, {'x': 0.789916, 'y': 0.13420427}]}, 'symbols': [{'property': {'detected_languages': [{'language_code': 'zh'}]}, 'text': '1', 'confidence': 0.85}], 'confidence': 0.85}, {'property': {'detected_languages': [{'language_code': 'zh'}]}, 'bounding_box': {'normalized_vertices': [{'x': 0.80336136, 'y': 0.11995249}, {'x': 0.81512606, 'y': 0.11995249}, {'x': 0.81512606, 'y': 0.13420427}, {'x': 0.80336136, 'y': 0.13420427}]}, 'symbols': [{'property': {'detected_languages': [{'language_code': 'zh'}]}, 'text': '月', 'confidence': 0.81}], 'confidence': 0.81}, {'property': {'detected_languages': [{'language_code': 'zh'}]}, 'bounding_box': {'normalized_vertices': [{'x': 0.8252101, 'y': 0.11995249}, {'x': 0.8319328, 'y': 0.11995249}, {'x': 0.8319328, 'y': 0.13420427}, {'x': 0.8252101, 'y': 0.13420427}]}, 'symbols': [{'property': {'detected_languages': [{'language_code': 'zh'}]}, 'text': '4', 'confidence': 0.98}], 'confidence': 0.98}, {'property': {'detected_languages': [{'language_code': 'zh'}]}, 'bounding_box': {'normalized_vertices': [{'x': 0.8420168, 'y': 0.11995249}, {'x': 0.85210085, 'y': 0.11995249}, {'x': 0.85210085, 'y': 0.13420427}, {'x': 0.8420168, 'y': 0.13420427}]}, 'symbols': [{'property': {'detected_languages': [{'language_code': 'zh'}], 'detected_break': {'type': 3}}, 'text': '日', 'confidence': 0.99}], 'confidence': 0.99}, {'property': {'detected_languages': [{'language_code': 'ja'}]}, 'bounding_box': {'normalized_vertices': [{'x': 0.6487395, 'y': 0.14133017}, {'x': 0.6806723, 'y': 0.14133017}, {'x': 0.6806723, 'y': 0.15558195}, {'x': 0.6487395, 'y': 0.15558195}]}, 'symbols': [{'property': {'detected_languages': [{'language_code': 'ja'}]}, 'text': '請', 'confidence': 0.98}, {'property': {'detected_languages': [{'language_code': 'ja'}]}, 'text': '求', 'confidence': 1}], 'confidence': 0.99}, {'property': {'detected_languages': [{'language_code': 'ja'}]}, 'bounding_box': {'normalized_vertices': [{'x': 0.68403363, 'y': 0.14133017}, {'x': 0.6991597, 'y': 0.14133017}, {'x': 0.6991597, 'y': 0.15558195}, {'x': 0.68403363, 'y': 0.15558195}]}, 'symbols': [{'property': {'detected_languages': [{'language_code': 'ja'}]}, 'text': '書', 'confidence': 0.99}], 'confidence': 0.99}, {'property': {'detected_languages': [{'language_code': 'ja'}]}, 'bounding_box': {'normalized_vertices': [{'x': 0.70084035, 'y': 0.14133017}, {'x': 0.7344538, 'y': 0.14133017}, {'x': 0.7344538, 'y': 0.15558195}, {'x': 0.70084035, 'y': 0.15558195}]}, 'symbols': [{'property': {'detected_languages': [{'language_code': 'ja'}]}, 'text': '番', 'confidence': 0.98}, {'property': {'detected_languages': [{'language_code': 'ja'}]}, 'text': '号', 'confidence': 0.99}], 'confidence': 0.98}, {'property': {'detected_languages': [{'language_code': 'ja'}]}, 'bounding_box': {'normalized_vertices': [{'x': 0.74285716, 'y': 0.14133017}, {'x': 0.74453783, 'y': 0.14133017}, {'x': 0.74453783, 'y': 0.15558195}, {'x': 0.74285716, 'y': 0.15558195}]}, 'symbols': [{'property': {'detected_languages': [{'language_code': 'ja'}]}, 'text': ':', 'confidence': 0.97}], 'confidence': 0.97}, {'property': {'detected_languages': [{'language_code': 'ja'}]}, 'bounding_box': {'normalized_vertices': [{'x': 0.75462186, 'y': 0.14133017}, {'x': 0.8537815, 'y': 0.14133017}, {'x': 0.8537815, 'y': 0.15558195}, {'x': 0.75462186, 'y': 0.15558195}]}, 'symbols': [{'property': {'detected_languages': [{'language_code': 'ja'}]}, 'text': '2', 'confidence': 0.92}, {'property': {'detected_languages': [{'language_code': 'ja'}]}, 'text': '0', 'confidence': 0.94}, {'property': {'detected_languages': [{'language_code': 'ja'}]}, 'text': '2', 'confidence': 0.93}, {'property': {'detected_languages': [{'language_code': 'ja'}]}, 'text': '0', 'confidence': 0.99}, {'property': {'detected_languages': [{'language_code': 'ja'}]}, 'text': '-', 'confidence': 0.98}, {'property': {'detected_languages': [{'language_code': 'ja'}]}, 'text': '0', 'confidence': 0.99}, {'property': {'detected_languages': [{'language_code': 'ja'}]}, 'text': '4', 'confidence': 0.99}, {'property': {'detected_languages': [{'language_code': 'ja'}]}, 'text': '8', 'confidence': 0.98}, {'property': {'detected_languages': [{'language_code': 'ja'}]}, 'text': '9', 'confidence': 0.99}, {'property': {'detected_languages': [{'language_code': 'ja'}]}, 'text': '1', 'confidence': 0.99}, {'property': {'detected_languages': [{'language_code': 'ja'}], 'detected_break': {'type': 5}}, 'text': '1', 'confidence': 0.99}], 'confidence': 0.97}]\n"
     ]
    }
   ],
   "source": [
    "print(words)"
   ]
  },
  {
   "cell_type": "code",
   "execution_count": 52,
   "metadata": {},
   "outputs": [
    {
     "data": {
      "text/plain": [
       "dict_keys(['property', 'bounding_box', 'symbols', 'confidence'])"
      ]
     },
     "execution_count": 52,
     "metadata": {},
     "output_type": "execute_result"
    }
   ],
   "source": [
    "word0.keys()"
   ]
  },
  {
   "cell_type": "code",
   "execution_count": 59,
   "metadata": {},
   "outputs": [
    {
     "data": {
      "text/plain": [
       "'2'"
      ]
     },
     "execution_count": 59,
     "metadata": {},
     "output_type": "execute_result"
    }
   ],
   "source": [
    "text0_dict = word0['symbols'][0]\n",
    "text0_dict['text']"
   ]
  },
  {
   "cell_type": "code",
   "execution_count": null,
   "metadata": {},
   "outputs": [],
   "source": []
  },
  {
   "cell_type": "code",
   "execution_count": 78,
   "metadata": {},
   "outputs": [],
   "source": [
    "words_lists = []\n",
    "for i in range(len(blocks)):\n",
    "    paragraphs = blocks[i]['paragraphs']\n",
    "    for j in range(len(paragraphs)):\n",
    "        words_list = paragraphs[j]['words']\n",
    "        words_lists.append(words_list)"
   ]
  },
  {
   "cell_type": "code",
   "execution_count": 81,
   "metadata": {},
   "outputs": [],
   "source": [
    "words_lists = []\n",
    "for i in range(len(blocks)):\n",
    "    paragraphs = blocks[i]['paragraphs']\n",
    "    for j in range(len(paragraphs)):\n",
    "        words_list = paragraphs[j]['words']\n",
    "        words_lists.append(words_list)\n",
    "\n",
    "words = []\n",
    "\n",
    "for words_data in words_lists:\n",
    "    for i in range(len(words_data)):            \n",
    "        word = []\n",
    "        symbols = words_data[i]['symbols']\n",
    "        for j in range(len(symbols)):\n",
    "            word.append(symbols[j]['text'])\n",
    "        conbined_word = ''.join(word)\n",
    "        words.append(conbined_word)\n",
    "    "
   ]
  },
  {
   "cell_type": "code",
   "execution_count": 82,
   "metadata": {},
   "outputs": [
    {
     "name": "stdout",
     "output_type": "stream",
     "text": [
      "['2021', '年', '1', '月', '4', '日', '請求', '書', '番号', ':', '2020-048911', '株式会社', 'デモ', '御中', '宮崎', '国際', '法律', '事務所', '代表', '弁護士', '宮崎', 'サトシ', '宮', '崎', '国', '編', '南浦', '事', '所', '西', '請求', '書', 'A', '顧問', '料', '2020', '年', '12', '月分', '金', '300,000', '円', 'B', '消費', '税額', '(', '10', '%', ')', '金', '30,000', '円', 'C', '源泉', '調整', '税額', '(', '100', '万', '円', 'まで', '10.21', '%', '超過', '分', '20.42', '%', ')', '金', '30,630', '円', '合計', '請求', '金額', '(', 'A', '+', 'B', '-', 'C', ')', '金', '299,370', '円', '上記', '合計', '請求', '金額', 'を', '下記', 'の', '口座', 'に', 'お', '振込み', 'ください', 'ます', 'よう', 'お願い', '申し上げ', 'ます', '。', '口座', '名', ':', '宮崎', '国際', '法律', '事務所', 'みずほ', '銀行', '渋谷', '中央', '支店', '普通', '1234567']\n"
     ]
    }
   ],
   "source": [
    "print(words)"
   ]
  },
  {
   "cell_type": "code",
   "execution_count": null,
   "metadata": {},
   "outputs": [],
   "source": []
  }
 ],
 "metadata": {
  "kernelspec": {
   "display_name": "project",
   "language": "python",
   "name": "python3"
  },
  "language_info": {
   "codemirror_mode": {
    "name": "ipython",
    "version": 3
   },
   "file_extension": ".py",
   "mimetype": "text/x-python",
   "name": "python",
   "nbconvert_exporter": "python",
   "pygments_lexer": "ipython3",
   "version": "3.11.3"
  }
 },
 "nbformat": 4,
 "nbformat_minor": 2
}
